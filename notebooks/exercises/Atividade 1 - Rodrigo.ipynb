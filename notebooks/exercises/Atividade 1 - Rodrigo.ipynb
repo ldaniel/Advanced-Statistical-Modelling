{
 "cells": [
  {
   "cell_type": "markdown",
   "metadata": {},
   "source": [
    "# 0) Introdução\n",
    "\n",
    "* **Curso:** FGV MBA - Business Analytics and Big Data\n",
    "* **Disciplina:** Modelagem Estatística Avançada\n",
    "* **Professor:** Rodrigo Marotti Togneri\n",
    "* **Aluno:** Rodrigo Jose Borges Goncalves\n",
    "* **Matricula:** A57566093\n",
    "* **e-mail:** rodrigo.goncalves@me.com\n",
    "* **Github:** [RodriGonca](https://github.com/RodriGonca)"
   ]
  },
  {
   "cell_type": "markdown",
   "metadata": {},
   "source": [
    "# 1) Atividade - Loops"
   ]
  },
  {
   "cell_type": "markdown",
   "metadata": {},
   "source": [
    "### 1.1) Excercise 1\n",
    "**Build a Python program that tests if an integer is prime.\n",
    "Use a FOR loop.**"
   ]
  },
  {
   "cell_type": "markdown",
   "metadata": {},
   "source": [
    "<span style=\"color:green\"> A prime number (or a prime) is a natural number greater than 1 that cannot be formed by multiplying two smaller natural numbers.\n",
    "<br><br> Let's define a function to test is a givem number is prime or not.\n",
    "<br><br>The function first check if the input is and integer or not, than it will loop trough a range from 2 to the given number and check the remainder, if any remainder is greater than zero it means that the number is divisible not only by itself and 1 and therefore it is a prime number. </span>"
   ]
  },
  {
   "cell_type": "code",
   "execution_count": 1,
   "metadata": {},
   "outputs": [],
   "source": [
    "def test_for_prime_for_loop(x):\n",
    "    if isinstance(x, int) and x > 0:\n",
    "        if x == 1: \n",
    "            is_prime = (True, f'it is divisible by 1 and {x}')\n",
    "        elif x == 2:\n",
    "            is_prime = (False, f'it is divisible by 1 and {x}')\n",
    "        else:\n",
    "            i = 2\n",
    "            for i in range(2, abs(x), 1):\n",
    "                if x % i == 0:\n",
    "                    is_prime = (False, f'it is divisible by 1 and {i}')\n",
    "                    break\n",
    "                else:\n",
    "                    is_prime = (True, f'it is divisible by 1 and {x}')\n",
    "        return is_prime\n",
    "    else:\n",
    "        return (False, 'non integer input or not greater than 0')"
   ]
  },
  {
   "cell_type": "markdown",
   "metadata": {},
   "source": [
    "To test the function let's print all the prime numbest ranging from 1 to 50"
   ]
  },
  {
   "cell_type": "code",
   "execution_count": 2,
   "metadata": {},
   "outputs": [
    {
     "name": "stdout",
     "output_type": "stream",
     "text": [
      "number: 1 is prime? (True, 'it is divisible by 1 and 1')\n",
      "number: 3 is prime? (True, 'it is divisible by 1 and 3')\n",
      "number: 5 is prime? (True, 'it is divisible by 1 and 5')\n",
      "number: 7 is prime? (True, 'it is divisible by 1 and 7')\n",
      "number: 11 is prime? (True, 'it is divisible by 1 and 11')\n",
      "number: 13 is prime? (True, 'it is divisible by 1 and 13')\n",
      "number: 17 is prime? (True, 'it is divisible by 1 and 17')\n",
      "number: 19 is prime? (True, 'it is divisible by 1 and 19')\n",
      "number: 23 is prime? (True, 'it is divisible by 1 and 23')\n",
      "number: 29 is prime? (True, 'it is divisible by 1 and 29')\n",
      "number: 31 is prime? (True, 'it is divisible by 1 and 31')\n",
      "number: 37 is prime? (True, 'it is divisible by 1 and 37')\n",
      "number: 41 is prime? (True, 'it is divisible by 1 and 41')\n",
      "number: 43 is prime? (True, 'it is divisible by 1 and 43')\n",
      "number: 47 is prime? (True, 'it is divisible by 1 and 47')\n"
     ]
    }
   ],
   "source": [
    "for test in range(1, 50, 1):\n",
    "    is_prime = test_for_prime_for_loop(test)[0]\n",
    "    if is_prime:\n",
    "        print(f'number: {test} is prime? {test_for_prime_for_loop(test)}')"
   ]
  },
  {
   "cell_type": "markdown",
   "metadata": {},
   "source": [
    "# 1.2) Exercício 2\n",
    "Build a Python program that tests if an integer is prime.\n",
    "Use a WHILE loop."
   ]
  },
  {
   "cell_type": "code",
   "execution_count": 3,
   "metadata": {},
   "outputs": [],
   "source": [
    "def test_for_prime_while_loop(x):\n",
    "    if isinstance(x, int) and x > 0:\n",
    "        if x == 1: \n",
    "            is_prime = (True, f'it is divisible by 1 and {x}')\n",
    "        elif x == 2:\n",
    "            is_prime = (False, f'it is divisible by 1 and {x}')\n",
    "        else:\n",
    "            i = 2\n",
    "            while i < x:\n",
    "                if x % i == 0:\n",
    "                    is_prime = (False, f'it is divisible by 1 and {i}')\n",
    "                    break\n",
    "                else:\n",
    "                    is_prime = (True, f'it is divisible by 1 and {x}')\n",
    "                i += 1\n",
    "        return is_prime\n",
    "    else:\n",
    "        return (False, 'non integer input or not greater than 0')"
   ]
  },
  {
   "cell_type": "code",
   "execution_count": 4,
   "metadata": {},
   "outputs": [
    {
     "name": "stdout",
     "output_type": "stream",
     "text": [
      "number: 1 is prime? (True, 'it is divisible by 1 and 1')\n",
      "number: 3 is prime? (True, 'it is divisible by 1 and 3')\n",
      "number: 5 is prime? (True, 'it is divisible by 1 and 5')\n",
      "number: 7 is prime? (True, 'it is divisible by 1 and 7')\n",
      "number: 11 is prime? (True, 'it is divisible by 1 and 11')\n",
      "number: 13 is prime? (True, 'it is divisible by 1 and 13')\n",
      "number: 17 is prime? (True, 'it is divisible by 1 and 17')\n",
      "number: 19 is prime? (True, 'it is divisible by 1 and 19')\n",
      "number: 23 is prime? (True, 'it is divisible by 1 and 23')\n",
      "number: 29 is prime? (True, 'it is divisible by 1 and 29')\n",
      "number: 31 is prime? (True, 'it is divisible by 1 and 31')\n",
      "number: 37 is prime? (True, 'it is divisible by 1 and 37')\n",
      "number: 41 is prime? (True, 'it is divisible by 1 and 41')\n",
      "number: 43 is prime? (True, 'it is divisible by 1 and 43')\n",
      "number: 47 is prime? (True, 'it is divisible by 1 and 47')\n"
     ]
    }
   ],
   "source": [
    "for test in range(1, 50, 1):\n",
    "    is_prime = test_for_prime_while_loop(test)[0]\n",
    "    if is_prime:\n",
    "        print(f'number: {test} is prime? {test_for_prime_while_loop(test)}')"
   ]
  },
  {
   "cell_type": "markdown",
   "metadata": {},
   "source": [
    "# 2) Atividade - Functions"
   ]
  },
  {
   "cell_type": "markdown",
   "metadata": {},
   "source": [
    "### 2.1 ) Exercício 1\n",
    "\n",
    "Desenvolver e testar uma função que valide se um número de CPF é válido.\n",
    "\n",
    "Condições:\n",
    "\n",
    " - Deve conter 11 dígitos.\n",
    " - Deve ser uma entrada de dígitos exclusivamente, sem texto.\n",
    " - Os números não podem ser todos repetidos.\n",
    " - Os dígitos devem ser cálculados corretamente, pelo cálculo oficial."
   ]
  },
  {
   "cell_type": "code",
   "execution_count": 5,
   "metadata": {},
   "outputs": [],
   "source": [
    "def is_cpf(cpf):\n",
    "    # checks if it is an string and then converts to integer\n",
    "    # if the conversion fails it means that the input is not numeric.\n",
    "    if isinstance(cpf, str):\n",
    "        try:\n",
    "            cpf = int(cpf)\n",
    "        except ValueError:\n",
    "            return (False, 'non valid input')\n",
    "        \n",
    "    # convert the result from above operation to a string with 11 characters and leading zeros. \n",
    "    if isinstance(cpf, int):\n",
    "        if len(str(cpf)) < 12 and int(cpf) > 0:\n",
    "            cpf = \"{:0>11d}\".format(cpf)\n",
    "            # checks if there is repetition in the input data\n",
    "            if (str(cpf) + str(cpf)).find(str(cpf), 1, -1)  != -1: \n",
    "                return (False, 'repeated numbers')\n",
    "\n",
    "            # extract cpf root for check digit calculation\n",
    "            root_cpf = cpf[0:9]\n",
    "            \n",
    "            # calculates the first check digit\n",
    "            digt_1 = 0\n",
    "            for c, i in zip(root_cpf, list(range(10, 1, -1))):\n",
    "                digt_1 = int(c) * i + digt_1\n",
    "            digt_1 = digt_1 * 10 % 11\n",
    "            if digt_1 == 10: digt_1 = 0\n",
    "            \n",
    "            # concatenates the first check digit to cpf root to calculate the second check digit\n",
    "            root_cpf = cpf[0:9] + str(digt_1)\n",
    "            \n",
    "            # calculates the second check digit\n",
    "            digt_2 = 0\n",
    "            for c, i in zip(root_cpf, list(range(11, 1, -1))):\n",
    "                digt_2 = int(c) * i + digt_2\n",
    "            digt_2 = digt_2 * 10 % 11\n",
    "            if digt_2 == 10: digt_2 = 0\n",
    "            \n",
    "            # concatenates first and second digits to compare to the digits informed in the input data.\n",
    "            digt = str(digt_1) + str(digt_2)\n",
    "            if(digt == cpf[9:11]):\n",
    "                return (True, 'valid check digits')\n",
    "            else:\n",
    "                return (False, 'invalid check digits')\n",
    "        else:\n",
    "            if int(cpf) < 0:\n",
    "                return (False, 'input is negatuve')\n",
    "            return (False, 'input greater than 11 digits')\n",
    "    else:\n",
    "        return (False, \"can't convert to integer\")"
   ]
  },
  {
   "cell_type": "markdown",
   "metadata": {},
   "source": [
    "<span style=\"color:green\"> Here are some sample inputs to test our function. </span>"
   ]
  },
  {
   "cell_type": "code",
   "execution_count": 6,
   "metadata": {},
   "outputs": [
    {
     "name": "stdout",
     "output_type": "stream",
     "text": [
      "is cpf\t 04697398947 \tvalid? (True, 'valid check digits')\n",
      "is cpf\t 4697398947 \tvalid? (True, 'valid check digits')\n",
      "is cpf\t 1720217904 \tvalid? (True, 'valid check digits')\n",
      "is cpf\t 017202179045 \tvalid? (False, 'invalid check digits')\n",
      "is cpf\t 4697398948 \tvalid? (False, 'invalid check digits')\n",
      "is cpf\t 44444444444 \tvalid? (False, 'repeated numbers')\n",
      "is cpf\t 40469739894z \tvalid? (False, 'non valid input')\n",
      "is cpf\t -4697398947 \tvalid? (False, 'input is negatuve')\n",
      "is cpf\t ['04697398947', 1720217904] \tvalid? (False, \"can't convert to integer\")\n",
      "is cpf\t True \tvalid? (False, 'invalid check digits')\n",
      "is cpf\t False \tvalid? (False, 'input greater than 11 digits')\n",
      "is cpf\t 1 \tvalid? (False, 'invalid check digits')\n",
      "is cpf\t 0 \tvalid? (False, 'input greater than 11 digits')\n"
     ]
    }
   ],
   "source": [
    "cpfs_to_test = ['04697398947', 4697398947, \n",
    "                1720217904, '017202179045',\n",
    "                4697398948, '44444444444', \n",
    "                '40469739894z', -4697398947, \n",
    "                ['04697398947', 1720217904],\n",
    "               True, False, 1, 0]\n",
    "\n",
    "for cpf in cpfs_to_test:\n",
    "    print(f'is cpf\\t {cpf} \\tvalid? {is_cpf(cpf)}')"
   ]
  },
  {
   "cell_type": "markdown",
   "metadata": {},
   "source": [
    "# 3) Atividade - Object Oriented Programing"
   ]
  },
  {
   "cell_type": "markdown",
   "metadata": {},
   "source": [
    "### 3.1) Exercício 1\n",
    "\n",
    "Create an object called roc1 from the class below, passing 2 parameters, and then call attributes and methods."
   ]
  },
  {
   "cell_type": "code",
   "execution_count": 7,
   "metadata": {},
   "outputs": [],
   "source": [
    "from math import sqrt\n",
    "\n",
    "class Rocket():\n",
    "     \n",
    "    def __init__(self, x=0, y=0):\n",
    "        self.x = x\n",
    "        self.y = y\n",
    "        \n",
    "    def move_rocket(self, x_increment=0, y_increment=1):\n",
    "        self.x += x_increment\n",
    "        self.y += y_increment\n",
    "        \n",
    "    def print_rocket(self):\n",
    "        print(self.x, self.y)"
   ]
  },
  {
   "cell_type": "markdown",
   "metadata": {},
   "source": [
    "<span style=\"color:green\"> Creating **roc1** object. </span>"
   ]
  },
  {
   "cell_type": "code",
   "execution_count": 8,
   "metadata": {},
   "outputs": [],
   "source": [
    "roc1 = Rocket(x = 5, y = 10)"
   ]
  },
  {
   "cell_type": "markdown",
   "metadata": {},
   "source": [
    "<span style=\"color:green\"> Calling **roc1** attributes. </span>"
   ]
  },
  {
   "cell_type": "code",
   "execution_count": 9,
   "metadata": {},
   "outputs": [
    {
     "name": "stdout",
     "output_type": "stream",
     "text": [
      "5 10\n",
      "x = 5 \t y = 10\n"
     ]
    }
   ],
   "source": [
    "roc1.print_rocket()\n",
    "print(f'x = {roc1.x} \\t y = {roc1.y}')"
   ]
  },
  {
   "cell_type": "markdown",
   "metadata": {},
   "source": [
    "<span style=\"color:green\"> Calling **roc1** methods </span>"
   ]
  },
  {
   "cell_type": "code",
   "execution_count": 10,
   "metadata": {},
   "outputs": [],
   "source": [
    "roc1.move_rocket(x_increment = 2, y_increment = 20)"
   ]
  },
  {
   "cell_type": "markdown",
   "metadata": {},
   "source": [
    "<span style=\"color:green\"> Calling **roc1** attributes after calling its method. </span>"
   ]
  },
  {
   "cell_type": "code",
   "execution_count": 11,
   "metadata": {},
   "outputs": [
    {
     "name": "stdout",
     "output_type": "stream",
     "text": [
      "7 30\n",
      "x = 7 \t y = 30\n"
     ]
    }
   ],
   "source": [
    "roc1.print_rocket()\n",
    "print(f'x = {roc1.x} \\t y = {roc1.y}')"
   ]
  },
  {
   "cell_type": "markdown",
   "metadata": {},
   "source": [
    "### 3.2) Exercício 2\n",
    "Create a class called Person () with attributes: name, city, phone, and email. Use at least 2 special methods in your class. \n",
    "<p> Create an object of your class and make a call to at least one of its special methods."
   ]
  },
  {
   "cell_type": "markdown",
   "metadata": {},
   "source": [
    "<span style=\"color:green\"> Let's import re module to be used inside a class method we will create. </span>"
   ]
  },
  {
   "cell_type": "code",
   "execution_count": 12,
   "metadata": {},
   "outputs": [],
   "source": [
    "import re"
   ]
  },
  {
   "cell_type": "markdown",
   "metadata": {},
   "source": [
    "<span style=\"color:green\"> Defining the class called Person </span>"
   ]
  },
  {
   "cell_type": "code",
   "execution_count": 13,
   "metadata": {},
   "outputs": [],
   "source": [
    "class Person():\n",
    "    \n",
    "    def __init__ (self, name, city, phone, email):\n",
    "        self.name = name\n",
    "        self.city = city\n",
    "        self.phone = phone\n",
    "        self.email = email\n",
    "    \n",
    "    # this method just prints a contact card\n",
    "    def print_contact_card(self):\n",
    "        print(f'Name:\\t {self.name}')\n",
    "        print(f'City:\\t {self.city}')\n",
    "        print(f'Phone:\\t {self.phone}')\n",
    "        print(f'e-mail:\\t {self.email}')\n",
    "    \n",
    "    # this method splits name and phone number in its components using some regular expressions.\n",
    "    def get_components(self):\n",
    "        self.first_name, self.last_name = self.name.split(' ')\n",
    "        self.phone_contry_code = re.findall('\\+\\d+', self.phone)[0]\n",
    "        self.ddd = re.findall('\\(\\d+\\)', self.phone)[0]\n",
    "        self.phone_number = re.findall('\\d \\d{4}-\\d{4}', self.phone)[0]"
   ]
  },
  {
   "cell_type": "markdown",
   "metadata": {},
   "source": [
    "<span style=\"color:green\"> Let's create a person using our class </span>"
   ]
  },
  {
   "cell_type": "code",
   "execution_count": 14,
   "metadata": {},
   "outputs": [],
   "source": [
    "Rodrigo = Person('Rodrigo Goncalves', 'São Paulo', '+55 (11) 9 2035-3045', 'user.name@mail.com')"
   ]
  },
  {
   "cell_type": "markdown",
   "metadata": {},
   "source": [
    "<span style=\"color:green\"> Print it's contact card </span>"
   ]
  },
  {
   "cell_type": "code",
   "execution_count": 15,
   "metadata": {},
   "outputs": [
    {
     "name": "stdout",
     "output_type": "stream",
     "text": [
      "Name:\t Rodrigo Goncalves\n",
      "City:\t São Paulo\n",
      "Phone:\t +55 (11) 9 2035-3045\n",
      "e-mail:\t user.name@mail.com\n"
     ]
    }
   ],
   "source": [
    "Rodrigo.print_contact_card()"
   ]
  },
  {
   "cell_type": "markdown",
   "metadata": {},
   "source": [
    "<span style=\"color:green\"> Call our method to get name and phone components </span>"
   ]
  },
  {
   "cell_type": "code",
   "execution_count": 16,
   "metadata": {},
   "outputs": [],
   "source": [
    "Rodrigo.get_components()"
   ]
  },
  {
   "cell_type": "markdown",
   "metadata": {},
   "source": [
    "<span style=\"color:green\"> Print new atributes created by our get_componets() method </span>"
   ]
  },
  {
   "cell_type": "code",
   "execution_count": 17,
   "metadata": {},
   "outputs": [
    {
     "name": "stdout",
     "output_type": "stream",
     "text": [
      "Rodrigo\n",
      "Goncalves\n",
      "+55\n",
      "(11)\n",
      "9 2035-3045\n"
     ]
    }
   ],
   "source": [
    "print(Rodrigo.first_name)\n",
    "print(Rodrigo.last_name)\n",
    "print(Rodrigo.phone_contry_code)\n",
    "print(Rodrigo.ddd)\n",
    "print(Rodrigo.phone_number)"
   ]
  },
  {
   "cell_type": "markdown",
   "metadata": {},
   "source": [
    "### 3.3) Exercício 3\n",
    "Create the Smartphone class with 2 attributes, size and interface and create the MP3Player class with the attributes capacity. The MP3player class must inherit the attributes from the Smartphone class."
   ]
  },
  {
   "cell_type": "markdown",
   "metadata": {},
   "source": [
    "<span style=\"color:green\"> Define class SmartPhone. </span>"
   ]
  },
  {
   "cell_type": "code",
   "execution_count": 18,
   "metadata": {},
   "outputs": [],
   "source": [
    "class SmartPhone():\n",
    "\n",
    "    def __init__ (self, size = '', interface = ''):\n",
    "        self.size = size\n",
    "        self.interface = interface\n",
    "    \n",
    "    def call(self, number):\n",
    "        print(f'calling {number} ...')\n",
    "    \n",
    "    def send_msg(self, number, msg):\n",
    "        print(f\"message '{msg[0:10]}...' sent to {number}\")"
   ]
  },
  {
   "cell_type": "markdown",
   "metadata": {},
   "source": [
    "<span style=\"color:green\"> Define class MP3Player. </span>"
   ]
  },
  {
   "cell_type": "code",
   "execution_count": 19,
   "metadata": {},
   "outputs": [],
   "source": [
    "class MP3Player(SmartPhone):\n",
    "    \n",
    "    def __init__ (self, mp3_name, size, interface):\n",
    "        SmartPhone.__init__(self, size, interface)\n",
    "        self.mp3_name = mp3_name\n",
    "        \n",
    "    def play_song(self, song):\n",
    "        print(f\"playing '{song}'\")"
   ]
  },
  {
   "cell_type": "markdown",
   "metadata": {},
   "source": [
    "<span style=\"color:green\"> Create a SmartPhone object. </span>"
   ]
  },
  {
   "cell_type": "code",
   "execution_count": 20,
   "metadata": {},
   "outputs": [],
   "source": [
    "My_Phone = SmartPhone(interface = 'Android', size = '5 by 7')"
   ]
  },
  {
   "cell_type": "markdown",
   "metadata": {},
   "source": [
    "<span style=\"color:green\"> Checking the SmartPhone attributes. </span>"
   ]
  },
  {
   "cell_type": "code",
   "execution_count": 21,
   "metadata": {},
   "outputs": [
    {
     "name": "stdout",
     "output_type": "stream",
     "text": [
      "Phone: \t Android \t Size: \t 5 by 7\n"
     ]
    }
   ],
   "source": [
    "print(f'Phone: \\t {My_Phone.interface} \\t Size: \\t {My_Phone.size}')"
   ]
  },
  {
   "cell_type": "markdown",
   "metadata": {},
   "source": [
    "<span style=\"color:green\"> Checking the SmartPhone methods. </span>"
   ]
  },
  {
   "cell_type": "code",
   "execution_count": 22,
   "metadata": {},
   "outputs": [
    {
     "name": "stdout",
     "output_type": "stream",
     "text": [
      "calling +55 (11) 9 3256-8956 ...\n",
      "message 'hey, how r...' sent to +55 (11) 9 5689-2356\n"
     ]
    }
   ],
   "source": [
    "My_Phone.call('+55 (11) 9 3256-8956')\n",
    "My_Phone.send_msg(msg = 'hey, how r u?', number = '+55 (11) 9 5689-2356')"
   ]
  },
  {
   "cell_type": "markdown",
   "metadata": {},
   "source": [
    "<span style=\"color:green\"> Creating MP3Player object. </span>"
   ]
  },
  {
   "cell_type": "code",
   "execution_count": 23,
   "metadata": {},
   "outputs": [],
   "source": [
    "My_MP3 = MP3Player(mp3_name = 'google music', size = '5 by 7', interface = 'Android')"
   ]
  },
  {
   "cell_type": "markdown",
   "metadata": {},
   "source": [
    "<span style=\"color:green\"> Checking MP3Player attributes. </span>"
   ]
  },
  {
   "cell_type": "code",
   "execution_count": 24,
   "metadata": {},
   "outputs": [
    {
     "name": "stdout",
     "output_type": "stream",
     "text": [
      "Phone: \t Android \t Size: \t 5 by 7 \t Name: \t google music\n"
     ]
    }
   ],
   "source": [
    "print(f'Phone: \\t {My_MP3.interface} \\t Size: \\t {My_MP3.size} \\t Name: \\t {My_MP3.mp3_name}')"
   ]
  },
  {
   "cell_type": "markdown",
   "metadata": {},
   "source": [
    "<span style=\"color:green\"> Checking MP3 Player methods inherited from SmartPhone. </span>"
   ]
  },
  {
   "cell_type": "code",
   "execution_count": 25,
   "metadata": {},
   "outputs": [
    {
     "name": "stdout",
     "output_type": "stream",
     "text": [
      "calling +55 (11) 9 5689-4578 ...\n",
      "message 'hey, how r...' sent to +55 (11) 9 2356-4512\n"
     ]
    }
   ],
   "source": [
    "My_MP3.call('+55 (11) 9 5689-4578')\n",
    "My_MP3.send_msg(msg = 'hey, how r u?', number = '+55 (11) 9 2356-4512')"
   ]
  },
  {
   "cell_type": "markdown",
   "metadata": {},
   "source": [
    "<span style=\"color:green\"> Checking MP3 Player own method. </span>"
   ]
  },
  {
   "cell_type": "code",
   "execution_count": 26,
   "metadata": {},
   "outputs": [
    {
     "name": "stdout",
     "output_type": "stream",
     "text": [
      "playing 'My way'\n"
     ]
    }
   ],
   "source": [
    "My_MP3.play_song(song = 'My way')"
   ]
  }
 ],
 "metadata": {
  "kernelspec": {
   "display_name": "Python 3",
   "language": "python",
   "name": "python3"
  },
  "language_info": {
   "codemirror_mode": {
    "name": "ipython",
    "version": 3
   },
   "file_extension": ".py",
   "mimetype": "text/x-python",
   "name": "python",
   "nbconvert_exporter": "python",
   "pygments_lexer": "ipython3",
   "version": "3.7.7"
  }
 },
 "nbformat": 4,
 "nbformat_minor": 4
}
